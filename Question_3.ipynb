{
  "nbformat": 4,
  "nbformat_minor": 0,
  "metadata": {
    "colab": {
      "name": "Question_3.ipynb",
      "provenance": []
    },
    "kernelspec": {
      "name": "python3",
      "display_name": "Python 3"
    }
  },
  "cells": [
    {
      "cell_type": "markdown",
      "metadata": {
        "id": "o-l8SGyc6hJJ",
        "colab_type": "text"
      },
      "source": [
        "## **Question 3 Part 1**"
      ]
    },
    {
      "cell_type": "code",
      "metadata": {
        "id": "6RlyFcBB2_qe",
        "colab_type": "code",
        "colab": {
          "base_uri": "https://localhost:8080/",
          "height": 202
        },
        "outputId": "83186d04-0409-4f30-d5e6-234433a79056"
      },
      "source": [
        "import numpy as np\n",
        "\n",
        "d=3\n",
        "mean=[0]*d\n",
        "print(mean)\n",
        "\n",
        "covariance= np.identity(d)\n",
        "print(covariance)\n",
        "\n",
        "size=10000\n",
        "samples=np.random.multivariate_normal(mean, covariance, size)\n",
        "print(samples)"
      ],
      "execution_count": 4,
      "outputs": [
        {
          "output_type": "stream",
          "text": [
            "[0, 0, 0]\n",
            "[[1. 0. 0.]\n",
            " [0. 1. 0.]\n",
            " [0. 0. 1.]]\n",
            "[[-2.03932197e-01  3.10956239e+00 -1.55076330e+00]\n",
            " [ 4.53437935e-02  2.03453164e-01  5.20960233e-01]\n",
            " [-7.20674780e-02 -9.74674223e-01  2.36324049e-01]\n",
            " ...\n",
            " [-9.99071288e-01  3.99358332e-04 -8.19480642e-01]\n",
            " [-2.08115416e+00  1.42548294e+00 -1.22240075e+00]\n",
            " [ 1.09614195e+00  9.64146454e-02 -5.10547988e-01]]\n"
          ],
          "name": "stdout"
        }
      ]
    },
    {
      "cell_type": "markdown",
      "metadata": {
        "id": "Y4yutSIs6dq1",
        "colab_type": "text"
      },
      "source": [
        "## **Question 3 Part 2**"
      ]
    },
    {
      "cell_type": "code",
      "metadata": {
        "id": "b9Q9ah3D6k-a",
        "colab_type": "code",
        "colab": {
          "base_uri": "https://localhost:8080/",
          "height": 315
        },
        "outputId": "6100cc2c-cf2a-4052-b65e-489561c5ed1c"
      },
      "source": [
        "from numpy import linalg as LA\n",
        "import matplotlib.pyplot as plt\n",
        "\n",
        "s=[]\n",
        "for i in range(size):\n",
        "    norms= LA.norm(samples[i])\n",
        "    s=np.append(s,norms)\n",
        "print(s)\n",
        "\n",
        "plt.hist(s, 200, density=True, facecolor='g')\n",
        "\n",
        "std_dev= np.std(s)\n",
        "print('Standard Deviation=',std_dev)\n",
        "\n",
        "mean_samples= np.mean(s)\n",
        "print('Average=',mean_samples)"
      ],
      "execution_count": 5,
      "outputs": [
        {
          "output_type": "stream",
          "text": [
            "[3.48078058 0.5611139  1.00550118 ... 1.29216567 2.80311752 1.21304666]\n",
            "Standard Deviation= 0.675791897549408\n",
            "Average= 1.5995133058242381\n"
          ],
          "name": "stdout"
        },
        {
          "output_type": "display_data",
          "data": {
            "image/png": "[encoded data removed]",
            "text/plain": [
              "<Figure size 432x288 with 1 Axes>"
            ]
          },
          "metadata": {
            "tags": []
          }
        }
      ]
    },
    {
      "cell_type": "markdown",
      "metadata": {
        "id": "rj9PQQB46lot",
        "colab_type": "text"
      },
      "source": [
        "## **Question 3 Part 3**"
      ]
    },
    {
      "cell_type": "code",
      "metadata": {
        "id": "3I41lwXd7fDj",
        "colab_type": "code",
        "colab": {
          "base_uri": "https://localhost:8080/",
          "height": 1000
        },
        "outputId": "e55c2d2c-9c14-4367-8cb5-cbc531349da3"
      },
      "source": [
        "D=np.logspace(2.0, 3.0, num=4)\n",
        "print (D.astype(int))\n",
        "\n",
        "for i in D:\n",
        "    D=d\n",
        "    mean=[0]*d\n",
        "    #print(mean)\n",
        "    covariance= np.identity(d)\n",
        "    #print(covariance)\n",
        "    size=10000\n",
        "    samples=np.random.multivariate_normal(mean, covariance, size)\n",
        "    #print(samples)\n",
        "    s=[]\n",
        "    for i in range(size):\n",
        "        norms= LA.norm(samples[i])\n",
        "        s=np.append(s,norms)\n",
        "    print(s)\n",
        "    fig,axs = plt.subplots(1, sharex=True, sharey=True, gridspec_kw={'hspace':0})\n",
        "    plt.hist(s, 200, density=True, facecolor='g')\n",
        "    \n",
        "    std_dev= np.std(s)\n",
        "    print('Standard Deviation=',std_dev)\n",
        "    fig,axs = plt.subplots(1, sharex=True, sharey=True, gridspec_kw={'hspace':0})\n",
        "    plt.hist(std_dev, 5, density=True, facecolor='b')\n",
        "    \n",
        "    \n",
        "    mean_samples= np.mean(s)\n",
        "    print('Average=',mean_samples)\n",
        "    fig,axs = plt.subplots(1, sharex=True, sharey=True, gridspec_kw={'hspace':0})\n",
        "    plt.hist(mean_samples, 5, density=True, facecolor='r')"
      ],
      "execution_count": 6,
      "outputs": [
        {
          "output_type": "stream",
          "text": [
            "[ 100  215  464 1000]\n",
            "[2.15782534 0.82602985 1.77005859 ... 3.07908509 2.52769472 2.56985831]\n",
            "Standard Deviation= 0.6647656545159213\n",
            "Average= 1.5835760144090956\n",
            "[1.14826421 1.35685246 1.67962352 ... 1.23241872 1.28248596 2.42468483]\n",
            "Standard Deviation= 0.6765565389039312\n",
            "Average= 1.596524372997092\n",
            "[1.46055817 0.51281848 1.30442086 ... 0.71040002 1.67281035 0.68387713]\n",
            "Standard Deviation= 0.6706086134411722\n",
            "Average= 1.5956884976825425\n",
            "[1.20513966 0.79269588 1.20371951 ... 1.4343367  2.10569392 0.87014423]\n",
            "Standard Deviation= 0.6708659012379548\n",
            "Average= 1.5904258823253983\n"
          ],
          "name": "stdout"
        },
        {
          "output_type": "display_data",
          "data": {
            "image/png": "[encoded data removed]",
            "text/plain": [
              "<Figure size 432x288 with 1 Axes>"
            ]
          },
          "metadata": {
            "tags": []
          }
        },
        {
          "output_type": "display_data",
          "data": {
            "image/png": "[encoded data removed]",
            "text/plain": [
              "<Figure size 432x288 with 1 Axes>"
            ]
          },
          "metadata": {
            "tags": []
          }
        },
        {
          "output_type": "display_data",
          "data": {
            "image/png": "[encoded data removed]",
            "text/plain": [
              "<Figure size 432x288 with 1 Axes>"
            ]
          },
          "metadata": {
            "tags": []
          }
        },
        {
          "output_type": "display_data",
          "data": {
            "image/png": "[encoded data removed]",
            "text/plain": [
              "<Figure size 432x288 with 1 Axes>"
            ]
          },
          "metadata": {
            "tags": []
          }
        },
        {
          "output_type": "display_data",
          "data": {
            "image/png": "[encoded data removed]",
            "text/plain": [
              "<Figure size 432x288 with 1 Axes>"
            ]
          },
          "metadata": {
            "tags": []
          }
        },
        {
          "output_type": "display_data",
          "data": {
            "image/png": "[encoded data removed]",
            "text/plain": [
              "<Figure size 432x288 with 1 Axes>"
            ]
          },
          "metadata": {
            "tags": []
          }
        },
        {
          "output_type": "display_data",
          "data": {
            "image/png": "[encoded data removed]",
            "text/plain": [
              "<Figure size 432x288 with 1 Axes>"
            ]
          },
          "metadata": {
            "tags": []
          }
        },
        {
          "output_type": "display_data",
          "data": {
            "image/png": "[encoded data removed]",
            "text/plain": [
              "<Figure size 432x288 with 1 Axes>"
            ]
          },
          "metadata": {
            "tags": []
          }
        },
        {
          "output_type": "display_data",
          "data": {
            "image/png": "[encoded data removed]",
            "text/plain": [
              "<Figure size 432x288 with 1 Axes>"
            ]
          },
          "metadata": {
            "tags": []
          }
        },
        {
          "output_type": "display_data",
          "data": {
            "image/png": "[encoded data removed]",
            "text/plain": [
              "<Figure size 432x288 with 1 Axes>"
            ]
          },
          "metadata": {
            "tags": []
          }
        },
        {
          "output_type": "display_data",
          "data": {
            "image/png": "[encoded data removed]",
            "text/plain": [
              "<Figure size 432x288 with 1 Axes>"
            ]
          },
          "metadata": {
            "tags": []
          }
        },
        {
          "output_type": "display_data",
          "data": {
            "image/png": "[encoded data removed]",
            "text/plain": [
              "<Figure size 432x288 with 1 Axes>"
            ]
          },
          "metadata": {
            "tags": []
          }
        }
      ]
    },
    {
      "cell_type": "markdown",
      "metadata": {
        "id": "IYBJl-eS7sfh",
        "colab_type": "text"
      },
      "source": [
        "## **Question 3 Part 4**\n",
        "Answer:\n",
        "We can conclude from the plots of Part(c) is that even with higher dimensions the Gaussian distribution still appears to be a bell curve as we cann see from the plot of histograms. There is very small variation in mean and standard deviations too for higher dimensions."
      ]
    }
  ]
}